{
 "metadata": {
  "name": "",
  "signature": "sha256:dd6a24ad54f4ff3ce1c830ead160bfb1f41a8b21f0788aef31ea52d66bbf8c35"
 },
 "nbformat": 3,
 "nbformat_minor": 0,
 "worksheets": [
  {
   "cells": [
    {
     "cell_type": "code",
     "collapsed": false,
     "input": [
      "import tensorflow as tf\n",
      "import pickle\n",
      "import numpy as np\n",
      "from tensorflow.contrib.legacy_seq2seq.python.ops import seq2seq\n",
      "from tensorflow.python.ops import ctc_ops as ctc"
     ],
     "language": "python",
     "metadata": {},
     "outputs": [],
     "prompt_number": 1
    },
    {
     "cell_type": "code",
     "collapsed": false,
     "input": [
      "train_mfcc = []\n",
      "train_words = []\n",
      "test_mfcc = []\n",
      "test_words = []\n",
      "vocab_id_2_c = {}\n",
      "vocab_c_2_id = {}\n",
      "x = \"PGabcdefghijklmnopqrstuvwxyz0123456789 ,.'?-UE\"\n",
      "\n",
      "with open(\"train_mfcc\", \"rb\") as f:\n",
      "    train_mfcc = pickle.load(f)\n",
      "    \n",
      "with open(\"train_output_words\", \"rb\") as f:\n",
      "    train_words = pickle.load(f)\n",
      "    \n",
      "with open(\"test_mfcc\", \"rb\") as f:\n",
      "    test_mfcc = pickle.load(f)\n",
      "    \n",
      "with open(\"test_output_words\", \"rb\") as f:\n",
      "    test_words = pickle.load(f)\n",
      "    \n",
      "for i in range(len(x)):\n",
      "    vocab_c_2_id[x[i]] = i + 1\n",
      "    vocab_id_2_c[i + 1] = x[i]"
     ],
     "language": "python",
     "metadata": {},
     "outputs": [],
     "prompt_number": 2
    },
    {
     "cell_type": "code",
     "collapsed": false,
     "input": [
      "train_targets = []\n",
      "\n",
      "with open(\"train_words_text\", 'r') as f:\n",
      "\n",
      "    for line in f.readlines():\n",
      "\n",
      "\n",
      "        original = ' '.join(line.strip().lower().split(' ')).replace('.', '')\n",
      "        targets = original.replace(' ', '  ')\n",
      "        targets = targets.split(' ')\n",
      "\n",
      "        targets = np.hstack([list(x) for x in targets])\n",
      "\n",
      "        targets = np.asarray([vocab_c_2_id[x] if x in vocab_c_2_id else vocab_c_2_id['U']\n",
      "                              for x in targets])\n",
      "    \n",
      "        train_targets.append(targets)"
     ],
     "language": "python",
     "metadata": {},
     "outputs": [],
     "prompt_number": 3
    },
    {
     "cell_type": "code",
     "collapsed": false,
     "input": [
      "num_hidden = 128\n",
      "num_classes = len(vocab_c_2_id) + 1\n",
      "batch_size = 1\n",
      "input_size = 123\n",
      "max_encoder_input_size = 0\n",
      "max_decoder_input_size = 0\n",
      "train_ids = []\n",
      "\n",
      "for i in range(len(train_mfcc)):\n",
      "    max_encoder_input_size = max(max_encoder_input_size, len(train_mfcc[i]))\n",
      "    \n",
      "# for i in range(len(train_words)):\n",
      "#     train_words[i] = train_words[i].lower()\n",
      "#     max_decoder_input_size = max(max_decoder_input_size, len(train_words[i]))\n",
      "    \n",
      "for i in range(len(train_mfcc)):\n",
      "    while train_mfcc[i].shape[0] < max_encoder_input_size:\n",
      "        train_mfcc[i] = np.vstack([train_mfcc[i], [0] * 123])\n",
      "        \n",
      "# for i in range(len(train_words)):\n",
      "#     data = []\n",
      "#     data2 = []\n",
      "#     for j in range(max_decoder_input_size):\n",
      "        \n",
      "#         if j < len(train_words[i]):\n",
      "#         if j == 0:\n",
      "#             data = (np.arange(num_classes) == vocab_c_2_id['G']).astype(np.float32)\n",
      "#             if train_words[i][j] in vocab_c_2_id:\n",
      "#                 data2 = (np.arange(num_classes) == vocab_c_2_id[train_words[i][j]]).astype(np.float32)\n",
      "#             else:\n",
      "#                 data2 = (np.arange(num_classes) == vocab_c_2_id['U']).astype(np.float32)\n",
      "#         elif j < len(train_words[i]):\n",
      "#             if train_words[i][j-1] in vocab_c_2_id:\n",
      "#                 data = np.vstack([data, (np.arange(num_classes) == vocab_c_2_id[train_words[i][j-1]]).astype(np.float32)])\n",
      "#             else:\n",
      "#                 data = np.vstack([data, (np.arange(num_classes) == vocab_c_2_id['U']).astype(np.float32)])\n",
      "#             if train_words[i][j] in vocab_c_2_id:\n",
      "#                 data2 = np.vstack([data2, (np.arange(num_classes) == vocab_c_2_id[train_words[i][j]]).astype(np.float32)])\n",
      "#             else:\n",
      "#                 data2 = np.vstack([data2, (np.arange(num_classes) == vocab_c_2_id['U']).astype(np.float32)])\n",
      "#         elif j == len(train_words[i]):\n",
      "#             if train_words[i][j-1] in vocab_c_2_id:\n",
      "#                 data = np.vstack([data, (np.arange(num_classes) == vocab_c_2_id[train_words[i][j-1]]).astype(np.float32)])\n",
      "#             else:\n",
      "#                 data = np.vstack([data, (np.arange(num_classes) == vocab_c_2_id['U']).astype(np.float32)])\n",
      "#             data2 = np.vstack([data2, [0] * num_classes]) \n",
      "#         else:\n",
      "#             data = np.vstack([data, [0] * num_classes])\n",
      "#             data2 = np.vstack([data2, [0] * num_classes])\n",
      "#     train_ids.append(data)\n",
      "#     train_targets.append(data2)"
     ],
     "language": "python",
     "metadata": {},
     "outputs": [],
     "prompt_number": 4
    },
    {
     "cell_type": "code",
     "collapsed": false,
     "input": [
      "weightsOutH1 = tf.Variable(tf.truncated_normal([2, num_hidden],\n",
      "                                                   stddev=np.sqrt(2.0 / (2*num_hidden))))\n",
      "biasesOutH1 = tf.Variable(tf.zeros([num_hidden]))\n",
      "\n",
      "weightsClasses = tf.Variable(tf.truncated_normal([num_hidden, num_classes],\n",
      "                                                     stddev=np.sqrt(2.0 / num_hidden)))\n",
      "biasesClasses = tf.Variable(tf.zeros([num_classes]))\n",
      "\n",
      "\n",
      "inputs = tf.placeholder(tf.float32, shape=(max_encoder_input_size, batch_size, input_size))\n",
      "inputrs = tf.reshape(inputs, [-1, input_size])\n",
      "\n",
      "inputList = tf.split(inputrs, max_encoder_input_size, 0)\n",
      "\n",
      "tar = tf.sparse_placeholder(tf.int32)\n",
      "seqLengths = tf.placeholder(tf.int32, shape=(batch_size))\n",
      "\n",
      "fw = tf.contrib.rnn.LSTMCell(num_hidden, state_is_tuple = True)\n",
      "bw = tf.contrib.rnn.LSTMCell(num_hidden, state_is_tuple = True)\n",
      "\n",
      "output, _, _ = tf.contrib.rnn.static_bidirectional_rnn(fw, bw, inputList, dtype = tf.float32)\n",
      "\n",
      "outputrs = [tf.reshape(t, [batch_size, 2, num_hidden]) for t in output]\n",
      "outH1 = [tf.reduce_sum(tf.multiply(t, weightsOutH1), reduction_indices = 1) + biasesOutH1 for t in outputrs]\n",
      "\n",
      "logits = [tf.matmul(t, weightsClasses) + biasesClasses for t in outH1]\n",
      "\n",
      "logits3d = tf.stack(logits)\n",
      "loss = tf.reduce_mean(ctc.ctc_loss(tar, logits3d, seqLengths))\n",
      "optimizer = tf.train.GradientDescentOptimizer(0.001).minimize(loss)"
     ],
     "language": "python",
     "metadata": {},
     "outputs": [],
     "prompt_number": 5
    },
    {
     "cell_type": "code",
     "collapsed": false,
     "input": [
      "def sparse_tuple_from(sequences, dtype=np.int32):\n",
      "    \"\"\"Create a sparse representention of x.\n",
      "    Args:\n",
      "        sequences: a list of lists of type dtype where each element is a sequence\n",
      "    Returns:\n",
      "        A tuple with (indices, values, shape)\n",
      "    \"\"\"\n",
      "    indices = []\n",
      "    values = []\n",
      "\n",
      "    for n, seq in enumerate(sequences):\n",
      "        indices.extend(zip([n]*len(seq), range(len(seq))))\n",
      "        values.extend(seq)\n",
      "\n",
      "    indices = np.asarray(indices, dtype=np.int64)\n",
      "    values = np.asarray(values, dtype=dtype)\n",
      "    shape = np.asarray([len(sequences), np.asarray(indices).max(0)[1]+1], dtype=np.int64)\n",
      "\n",
      "    return indices, values, shape"
     ],
     "language": "python",
     "metadata": {},
     "outputs": [],
     "prompt_number": 6
    },
    {
     "cell_type": "code",
     "collapsed": false,
     "input": [
      "num_steps = 100\n",
      "\n",
      "with tf.Session() as session:\n",
      "    \n",
      "    print(\"Initializing\")\n",
      "    tf.global_variables_initializer().run()\n",
      "    \n",
      "    saver = tf.train.Saver()\n",
      "    \n",
      "    for step in range(num_steps):\n",
      "        \n",
      "        l2 = 0\n",
      "        for i in range(len(train_mfcc)):\n",
      "            \n",
      "            feedDict = {inputs : train_mfcc[i].reshape([max_encoder_input_size, batch_size, input_size]),\n",
      "                        tar : sparse_tuple_from([train_targets[i]]),\n",
      "                        seqLengths : [max_encoder_input_size]}\n",
      "            \n",
      "            \n",
      "            _, l = session.run([optimizer, loss], feed_dict=feedDict)\n",
      "            \n",
      "            l2 += l\n",
      "            \n",
      "            if i % 500 == 0:\n",
      "                print(\"I\", i, l2)\n",
      "            \n",
      "        print(\"Step\", step, \"Loss\", l2)\n",
      "        saver.save(session, \"./Models/bidirectionalLSTMmodel.ckpt\")"
     ],
     "language": "python",
     "metadata": {},
     "outputs": [
      {
       "output_type": "stream",
       "stream": "stdout",
       "text": [
        "Initializing\n",
        "('I', 0, 2739.729248046875)"
       ]
      },
      {
       "output_type": "stream",
       "stream": "stdout",
       "text": [
        "\n",
        "('I', 500, 70207.501407623291)"
       ]
      },
      {
       "output_type": "stream",
       "stream": "stdout",
       "text": [
        "\n",
        "('I', 1000, 132832.12898635864)"
       ]
      },
      {
       "output_type": "stream",
       "stream": "stdout",
       "text": [
        "\n",
        "('I', 1500, 194983.10094070435)"
       ]
      },
      {
       "output_type": "stream",
       "stream": "stdout",
       "text": [
        "\n",
        "('I', 2000, 256511.13606643677)"
       ]
      },
      {
       "output_type": "stream",
       "stream": "stdout",
       "text": [
        "\n",
        "('I', 2500, 318355.04030990601)"
       ]
      },
      {
       "output_type": "stream",
       "stream": "stdout",
       "text": [
        "\n",
        "('I', 3000, 379560.28799057007)"
       ]
      },
      {
       "output_type": "stream",
       "stream": "stdout",
       "text": [
        "\n",
        "('I', 3500, 440354.27210235596)"
       ]
      },
      {
       "output_type": "stream",
       "stream": "stdout",
       "text": [
        "\n",
        "('I', 4000, 501317.10858917236)"
       ]
      },
      {
       "output_type": "stream",
       "stream": "stdout",
       "text": [
        "\n",
        "('I', 4500, 562277.98617172241)"
       ]
      },
      {
       "output_type": "stream",
       "stream": "stdout",
       "text": [
        "\n",
        "('Step', 0, 'Loss', 576458.91439437866)"
       ]
      },
      {
       "output_type": "stream",
       "stream": "stdout",
       "text": [
        "\n",
        "('I', 0, 116.18308258056641)"
       ]
      },
      {
       "output_type": "stream",
       "stream": "stdout",
       "text": [
        "\n",
        "('I', 500, 60172.197742462158)"
       ]
      },
      {
       "output_type": "stream",
       "stream": "stdout",
       "text": [
        "\n",
        "('I', 1000, 120940.3360748291)"
       ]
      },
      {
       "output_type": "stream",
       "stream": "stdout",
       "text": [
        "\n",
        "('I', 1500, 181264.01303100586)"
       ]
      },
      {
       "output_type": "stream",
       "stream": "stdout",
       "text": [
        "\n",
        "('I', 2000, 240785.5638923645)"
       ]
      },
      {
       "output_type": "stream",
       "stream": "stdout",
       "text": [
        "\n",
        "('I', 2500, 300265.02132797241)"
       ]
      },
      {
       "output_type": "stream",
       "stream": "stdout",
       "text": [
        "\n",
        "('I', 3000, 358217.67454910278)"
       ]
      },
      {
       "output_type": "stream",
       "stream": "stdout",
       "text": [
        "\n",
        "('I', 3500, 414962.0290184021)"
       ]
      },
      {
       "output_type": "stream",
       "stream": "stdout",
       "text": [
        "\n",
        "('I', 4000, 471376.75802993774)"
       ]
      },
      {
       "output_type": "stream",
       "stream": "stdout",
       "text": [
        "\n",
        "('I', 4500, 527304.18724060059)"
       ]
      },
      {
       "output_type": "stream",
       "stream": "stdout",
       "text": [
        "\n",
        "('Step', 1, 'Loss', 540185.72664260864)"
       ]
      },
      {
       "output_type": "stream",
       "stream": "stdout",
       "text": [
        "\n",
        "('I', 0, 108.30733489990234)"
       ]
      },
      {
       "output_type": "stream",
       "stream": "stdout",
       "text": [
        "\n",
        "('I', 500, 53595.639860153198)"
       ]
      },
      {
       "output_type": "stream",
       "stream": "stdout",
       "text": [
        "\n",
        "('I', 1000, 106540.05702972412)"
       ]
      },
      {
       "output_type": "stream",
       "stream": "stdout",
       "text": [
        "\n",
        "('I', 1500, 158102.99366760254)"
       ]
      },
      {
       "output_type": "stream",
       "stream": "stdout",
       "text": [
        "\n",
        "('I', 2000, 209221.94132232666)"
       ]
      },
      {
       "output_type": "stream",
       "stream": "stdout",
       "text": [
        "\n",
        "('I', 2500, 259994.18125915527)"
       ]
      },
      {
       "output_type": "stream",
       "stream": "stdout",
       "text": [
        "\n",
        "('I', 3000, 308359.29080963135)"
       ]
      },
      {
       "output_type": "stream",
       "stream": "stdout",
       "text": [
        "\n",
        "('I', 3500, 355754.21692657471)"
       ]
      },
      {
       "output_type": "stream",
       "stream": "stdout",
       "text": [
        "\n",
        "('I', 4000, 403066.64433670044)"
       ]
      },
      {
       "output_type": "stream",
       "stream": "stdout",
       "text": [
        "\n",
        "('I', 4500, 450094.71939468384)"
       ]
      },
      {
       "output_type": "stream",
       "stream": "stdout",
       "text": [
        "\n",
        "('Step', 2, 'Loss', 460848.1785697937)"
       ]
      },
      {
       "output_type": "stream",
       "stream": "stdout",
       "text": [
        "\n",
        "('I', 0, 98.443458557128906)"
       ]
      },
      {
       "output_type": "stream",
       "stream": "stdout",
       "text": [
        "\n",
        "('I', 500, 45050.648958206177)"
       ]
      },
      {
       "output_type": "stream",
       "stream": "stdout",
       "text": [
        "\n",
        "('I', 1000, 89129.990459442139)"
       ]
      },
      {
       "output_type": "stream",
       "stream": "stdout",
       "text": [
        "\n",
        "('I', 1500, 132149.6884765625)"
       ]
      },
      {
       "output_type": "stream",
       "stream": "stdout",
       "text": [
        "\n",
        "('I', 2000, 176005.33733558655)"
       ]
      },
      {
       "output_type": "stream",
       "stream": "stdout",
       "text": [
        "\n",
        "('I', 2500, 219622.13504219055)"
       ]
      },
      {
       "output_type": "stream",
       "stream": "stdout",
       "text": [
        "\n",
        "('I', 3000, 260600.95498085022)"
       ]
      },
      {
       "output_type": "stream",
       "stream": "stdout",
       "text": [
        "\n",
        "('I', 3500, 301101.17834091187)"
       ]
      },
      {
       "output_type": "stream",
       "stream": "stdout",
       "text": [
        "\n",
        "('I', 4000, 342093.98592758179)"
       ]
      },
      {
       "output_type": "stream",
       "stream": "stdout",
       "text": [
        "\n",
        "('I', 4500, 383168.73182296753)"
       ]
      },
      {
       "output_type": "stream",
       "stream": "stdout",
       "text": [
        "\n",
        "('Step', 3, 'Loss', 392619.44062423706)"
       ]
      },
      {
       "output_type": "stream",
       "stream": "stdout",
       "text": [
        "\n",
        "('I', 0, 90.180870056152344)"
       ]
      },
      {
       "output_type": "stream",
       "stream": "stdout",
       "text": [
        "\n",
        "('I', 500, 39893.145374298096)"
       ]
      },
      {
       "output_type": "stream",
       "stream": "stdout",
       "text": [
        "\n",
        "('I', 1000, 78857.021739959717)"
       ]
      },
      {
       "output_type": "stream",
       "stream": "stdout",
       "text": [
        "\n",
        "('I', 1500, 116983.38032341003)"
       ]
      },
      {
       "output_type": "stream",
       "stream": "stdout",
       "text": [
        "\n",
        "('I', 2000, 156454.52401542664)"
       ]
      },
      {
       "output_type": "stream",
       "stream": "stdout",
       "text": [
        "\n",
        "('I', 2500, 195772.81944847107)"
       ]
      },
      {
       "output_type": "stream",
       "stream": "stdout",
       "text": [
        "\n",
        "('I', 3000, 232639.90649795532)"
       ]
      },
      {
       "output_type": "stream",
       "stream": "stdout",
       "text": [
        "\n",
        "('I', 3500, 269269.30808067322)"
       ]
      },
      {
       "output_type": "stream",
       "stream": "stdout",
       "text": [
        "\n",
        "('I', 4000, 306559.10508918762)"
       ]
      },
      {
       "output_type": "stream",
       "stream": "stdout",
       "text": [
        "\n",
        "('I', 4500, 344108.10038948059)"
       ]
      },
      {
       "output_type": "stream",
       "stream": "stdout",
       "text": [
        "\n",
        "('Step', 4, 'Loss', 352833.41152000427)"
       ]
      },
      {
       "output_type": "stream",
       "stream": "stdout",
       "text": [
        "\n",
        "('I', 0, 85.16705322265625)"
       ]
      },
      {
       "output_type": "stream",
       "stream": "stdout",
       "text": [
        "\n",
        "('I', 500, 36543.691743850708)"
       ]
      },
      {
       "output_type": "stream",
       "stream": "stdout",
       "text": [
        "\n",
        "('I', 1000, 72281.24757194519)"
       ]
      },
      {
       "output_type": "stream",
       "stream": "stdout",
       "text": [
        "\n",
        "('I', 1500, 107221.231798172)"
       ]
      },
      {
       "output_type": "stream",
       "stream": "stdout",
       "text": [
        "\n",
        "('I', 2000, 143768.59829330444)"
       ]
      },
      {
       "output_type": "stream",
       "stream": "stdout",
       "text": [
        "\n",
        "('I', 2500, 180072.17454147339)"
       ]
      },
      {
       "output_type": "stream",
       "stream": "stdout",
       "text": [
        "\n",
        "('I', 3000, 214121.98234653473)"
       ]
      },
      {
       "output_type": "stream",
       "stream": "stdout",
       "text": [
        "\n",
        "('I', 3500, 247943.78001689911)"
       ]
      },
      {
       "output_type": "stream",
       "stream": "stdout",
       "text": [
        "\n",
        "('I', 4000, 282530.6184835434)"
       ]
      },
      {
       "output_type": "stream",
       "stream": "stdout",
       "text": [
        "\n",
        "('I', 4500, 317503.26675128937)"
       ]
      },
      {
       "output_type": "stream",
       "stream": "stdout",
       "text": [
        "\n",
        "('Step', 5, 'Loss', 325662.50186061859)"
       ]
      },
      {
       "output_type": "stream",
       "stream": "stdout",
       "text": [
        "\n",
        "('I', 0, 81.518798828125)"
       ]
      },
      {
       "output_type": "stream",
       "stream": "stdout",
       "text": [
        "\n",
        "('I', 500, 34097.071316719055)"
       ]
      },
      {
       "output_type": "stream",
       "stream": "stdout",
       "text": [
        "\n",
        "('I', 1000, 67433.537866592407)"
       ]
      },
      {
       "output_type": "stream",
       "stream": "stdout",
       "text": [
        "\n",
        "('I', 1500, 99982.447468757629)"
       ]
      },
      {
       "output_type": "stream",
       "stream": "stdout",
       "text": [
        "\n",
        "('I', 2000, 134306.29179382324)"
       ]
      },
      {
       "output_type": "stream",
       "stream": "stdout",
       "text": [
        "\n",
        "('I', 2500, 168316.49866294861)"
       ]
      },
      {
       "output_type": "stream",
       "stream": "stdout",
       "text": [
        "\n",
        "('I', 3000, 200183.32225513458)"
       ]
      },
      {
       "output_type": "stream",
       "stream": "stdout",
       "text": [
        "\n",
        "('I', 3500, 231834.60894680023)"
       ]
      },
      {
       "output_type": "stream",
       "stream": "stdout",
       "text": [
        "\n",
        "('I', 4000, 264271.94490718842)"
       ]
      },
      {
       "output_type": "stream",
       "stream": "stdout",
       "text": [
        "\n",
        "('I', 4500, 297202.73739624023)"
       ]
      },
      {
       "output_type": "stream",
       "stream": "stdout",
       "text": [
        "\n",
        "('Step', 6, 'Loss', 304873.94248485565)"
       ]
      },
      {
       "output_type": "stream",
       "stream": "stdout",
       "text": [
        "\n",
        "('I', 0, 79.7259521484375)"
       ]
      },
      {
       "output_type": "stream",
       "stream": "stdout",
       "text": [
        "\n",
        "('I', 500, 32149.232630729675)"
       ]
      },
      {
       "output_type": "stream",
       "stream": "stdout",
       "text": [
        "\n",
        "('I', 1000, 63566.537353515625)"
       ]
      },
      {
       "output_type": "stream",
       "stream": "stdout",
       "text": [
        "\n",
        "('I', 1500, 94197.204236030579)"
       ]
      },
      {
       "output_type": "stream",
       "stream": "stdout",
       "text": [
        "\n",
        "('I', 2000, 126635.44323730469)"
       ]
      },
      {
       "output_type": "stream",
       "stream": "stdout",
       "text": [
        "\n",
        "('I', 2500, 158757.73333263397)"
       ]
      },
      {
       "output_type": "stream",
       "stream": "stdout",
       "text": [
        "\n",
        "('I', 3000, 188824.7610244751)"
       ]
      },
      {
       "output_type": "stream",
       "stream": "stdout",
       "text": [
        "\n",
        "Traceback (most recent call last):\n"
       ]
      },
      {
       "output_type": "stream",
       "stream": "stdout",
       "text": [
        "  File \"/usr/lib/python2.7/dist-packages/IPython/core/ultratb.py\", line 776, in structured_traceback\n",
        "    records = _fixed_getinnerframes(etb, context, tb_offset)\n"
       ]
      },
      {
       "output_type": "stream",
       "stream": "stdout",
       "text": [
        "  File \"/usr/lib/python2.7/dist-packages/IPython/core/ultratb.py\", line 230, in wrapped\n",
        "    return f(*args, **kwargs)\n",
        "  File \"/usr/lib/python2.7/dist-packages/IPython/core/ultratb.py\", line 259, in _fixed_getinnerframes\n",
        "    records  = fix_frame_records_filenames(inspect.getinnerframes(etb, context))\n",
        "  File \"/usr/lib/python2.7/inspect.py\", line 1049, in getinnerframes\n",
        "    framelist.append((tb.tb_frame,) + getframeinfo(tb, context))\n"
       ]
      },
      {
       "output_type": "stream",
       "stream": "stderr",
       "text": [
        "ERROR: Internal Python error in the inspect module.\n",
        "Below is the traceback from this internal error.\n",
        "\n"
       ]
      },
      {
       "output_type": "stream",
       "stream": "stdout",
       "text": [
        "  File \"/usr/lib/python2.7/inspect.py\", line 1009, in getframeinfo\n",
        "    filename = getsourcefile(frame) or getfile(frame)\n",
        "  File \"/usr/lib/python2.7/inspect.py\", line 454, in getsourcefile\n",
        "    if hasattr(getmodule(object, filename), '__loader__'):\n",
        "  File \"/usr/lib/python2.7/inspect.py\", line 490, in getmodule\n",
        "    for modname, module in sys.modules.items():\n",
        "KeyboardInterrupt\n"
       ]
      },
      {
       "output_type": "stream",
       "stream": "stderr",
       "text": [
        "\n",
        "Unfortunately, your original traceback can not be constructed.\n",
        "\n"
       ]
      },
      {
       "ename": "KeyboardInterrupt",
       "evalue": "",
       "output_type": "pyerr",
       "traceback": ""
      }
     ],
     "prompt_number": 7
    },
    {
     "cell_type": "code",
     "collapsed": false,
     "input": [],
     "language": "python",
     "metadata": {},
     "outputs": []
    }
   ],
   "metadata": {}
  }
 ]
}