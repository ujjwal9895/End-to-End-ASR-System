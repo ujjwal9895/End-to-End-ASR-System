{
 "metadata": {
  "name": "",
  "signature": "sha256:c63afe0ac25c10e75c11f033ead6124a91aebb1c9fbc36c624ab403466ace449"
 },
 "nbformat": 3,
 "nbformat_minor": 0,
 "worksheets": [
  {
   "cells": [
    {
     "cell_type": "code",
     "collapsed": false,
     "input": [
      "import tensorflow as tf\n",
      "import pickle\n",
      "import numpy as np\n",
      "from tensorflow.contrib.legacy_seq2seq.python.ops import seq2seq\n",
      "from tensorflow.python.ops import ctc_ops as ctc"
     ],
     "language": "python",
     "metadata": {},
     "outputs": [],
     "prompt_number": 1
    },
    {
     "cell_type": "code",
     "collapsed": false,
     "input": [
      "train_mfcc = []\n",
      "train_words = []\n",
      "test_mfcc = []\n",
      "test_words = []\n",
      "vocab_id_2_c = {}\n",
      "vocab_c_2_id = {}\n",
      "x = \"PGabcdefghijklmnopqrstuvwxyz0123456789 ,.'?-UE\"\n",
      "\n",
      "with open(\"train_mfcc\", \"rb\") as f:\n",
      "    train_mfcc = pickle.load(f)\n",
      "    \n",
      "with open(\"train_output_words\", \"rb\") as f:\n",
      "    train_words = pickle.load(f)\n",
      "    \n",
      "with open(\"test_mfcc\", \"rb\") as f:\n",
      "    test_mfcc = pickle.load(f)\n",
      "    \n",
      "with open(\"test_output_words\", \"rb\") as f:\n",
      "    test_words = pickle.load(f)\n",
      "    \n",
      "for i in range(len(x)):\n",
      "    vocab_c_2_id[x[i]] = i + 1\n",
      "    vocab_id_2_c[i + 1] = x[i]"
     ],
     "language": "python",
     "metadata": {},
     "outputs": [],
     "prompt_number": 2
    },
    {
     "cell_type": "code",
     "collapsed": false,
     "input": [
      "train_targets = []\n",
      "\n",
      "with open(\"train_words_text\", 'r') as f:\n",
      "\n",
      "    for line in f.readlines():\n",
      "\n",
      "        original = ' '.join(line.strip().lower().split(' ')).replace('.', '')\n",
      "        targets = original.replace(' ', '  ')\n",
      "        targets = targets.split(' ')\n",
      "\n",
      "        targets = np.hstack([list(x) for x in targets])\n",
      "\n",
      "        targets = np.asarray([vocab_c_2_id[x] if x in vocab_c_2_id else vocab_c_2_id['U']\n",
      "                              for x in targets])\n",
      "    \n",
      "        train_targets.append(targets)\n",
      "        \n",
      "test_targets = []\n",
      "\n",
      "with open(\"test_words_text\", \"r\") as f:\n",
      "    \n",
      "    for line in f.readlines():\n",
      "        original = ' '.join(line.strip().lower().split(' ')).replace('.', '')\n",
      "        targets = original.replace(' ', '  ')\n",
      "        targets = targets.split(' ')\n",
      "\n",
      "        targets = np.hstack([list(x) for x in targets])\n",
      "\n",
      "        targets = np.asarray([vocab_c_2_id[x] if x in vocab_c_2_id else vocab_c_2_id['U']\n",
      "                              for x in targets])\n",
      "    \n",
      "        test_targets.append(targets)"
     ],
     "language": "python",
     "metadata": {},
     "outputs": [],
     "prompt_number": 3
    },
    {
     "cell_type": "code",
     "collapsed": false,
     "input": [
      "num_hidden = 128\n",
      "num_classes = len(vocab_c_2_id) + 1\n",
      "batch_size = 1\n",
      "input_size = 123\n",
      "max_encoder_input_size = 0\n",
      "max_decoder_input_size = 0\n",
      "train_ids = []\n",
      "\n",
      "for i in range(len(train_mfcc)):\n",
      "    max_encoder_input_size = max(max_encoder_input_size, len(train_mfcc[i]))\n",
      "    \n",
      "for i in range(len(test_mfcc)):\n",
      "    max_encoder_input_size = max(max_encoder_input_size, len(test_mfcc[i]))\n",
      "    \n",
      "# for i in range(len(train_words)):\n",
      "#     train_words[i] = train_words[i].lower()\n",
      "#     max_decoder_input_size = max(max_decoder_input_size, len(train_words[i]))\n",
      "    \n",
      "for i in range(len(train_mfcc)):\n",
      "    while train_mfcc[i].shape[0] < max_encoder_input_size:\n",
      "        train_mfcc[i] = np.vstack([train_mfcc[i], [0] * 123])\n",
      "        \n",
      "for i in range(len(test_mfcc)):\n",
      "    while test_mfcc[i].shape[0] < max_encoder_input_size:\n",
      "        test_mfcc[i] = np.vstack([test_mfcc[i], [0] * 123])\n",
      "        \n",
      "# for i in range(len(train_words)):\n",
      "#     data = []\n",
      "#     data2 = []\n",
      "#     for j in range(max_decoder_input_size):\n",
      "        \n",
      "#         if j < len(train_words[i]):\n",
      "#         if j == 0:\n",
      "#             data = (np.arange(num_classes) == vocab_c_2_id['G']).astype(np.float32)\n",
      "#             if train_words[i][j] in vocab_c_2_id:\n",
      "#                 data2 = (np.arange(num_classes) == vocab_c_2_id[train_words[i][j]]).astype(np.float32)\n",
      "#             else:\n",
      "#                 data2 = (np.arange(num_classes) == vocab_c_2_id['U']).astype(np.float32)\n",
      "#         elif j < len(train_words[i]):\n",
      "#             if train_words[i][j-1] in vocab_c_2_id:\n",
      "#                 data = np.vstack([data, (np.arange(num_classes) == vocab_c_2_id[train_words[i][j-1]]).astype(np.float32)])\n",
      "#             else:\n",
      "#                 data = np.vstack([data, (np.arange(num_classes) == vocab_c_2_id['U']).astype(np.float32)])\n",
      "#             if train_words[i][j] in vocab_c_2_id:\n",
      "#                 data2 = np.vstack([data2, (np.arange(num_classes) == vocab_c_2_id[train_words[i][j]]).astype(np.float32)])\n",
      "#             else:\n",
      "#                 data2 = np.vstack([data2, (np.arange(num_classes) == vocab_c_2_id['U']).astype(np.float32)])\n",
      "#         elif j == len(train_words[i]):\n",
      "#             if train_words[i][j-1] in vocab_c_2_id:\n",
      "#                 data = np.vstack([data, (np.arange(num_classes) == vocab_c_2_id[train_words[i][j-1]]).astype(np.float32)])\n",
      "#             else:\n",
      "#                 data = np.vstack([data, (np.arange(num_classes) == vocab_c_2_id['U']).astype(np.float32)])\n",
      "#             data2 = np.vstack([data2, [0] * num_classes]) \n",
      "#         else:\n",
      "#             data = np.vstack([data, [0] * num_classes])\n",
      "#             data2 = np.vstack([data2, [0] * num_classes])\n",
      "#     train_ids.append(data)\n",
      "#     train_targets.append(data2)"
     ],
     "language": "python",
     "metadata": {},
     "outputs": [],
     "prompt_number": 4
    },
    {
     "cell_type": "code",
     "collapsed": false,
     "input": [
      "for i in range(len(train_targets)):\n",
      "    max_decoder_input_size = max(max_decoder_input_size, len(train_targets[i]))\n",
      "    \n",
      "for i in range(len(test_targets)):\n",
      "    max_decoder_input_size = max(max_decoder_input_size, len(test_targets[i]))\n",
      "\n",
      "for i in range(len(train_targets)):\n",
      "    while len(train_targets[i]) < max_decoder_input_size:\n",
      "        train_targets[i] = np.append(train_targets[i], vocab_c_2_id['P'])\n",
      "        \n",
      "for i in range(len(test_targets)):\n",
      "    while len(test_targets[i]) < max_decoder_input_size:\n",
      "        test_targets[i] = np.append(test_targets[i], vocab_c_2_id['P'])\n",
      "        \n",
      "        \n",
      "train_ts = []\n",
      "for i in range(len(train_targets)):\n",
      "    data = []\n",
      "    for j in range(len(train_targets[i])):\n",
      "        if j == 0:\n",
      "            data = (np.arange(num_classes) == train_targets[i][j]).astype(np.float32)\n",
      "        else:\n",
      "            data = np.vstack([data, (np.arange(num_classes) == train_targets[i][j]).astype(np.float32)])\n",
      "    train_ts.append(data)\n",
      "    \n",
      "test_ts = []\n",
      "for i in range(len(test_targets)):\n",
      "    data = []\n",
      "    for j in range(len(test_targets[i])):\n",
      "        if j == 0:\n",
      "            data = (np.arange(num_classes) == test_targets[i][j]).astype(np.float32)\n",
      "        else:\n",
      "            data = np.vstack([data, (np.arange(num_classes) == test_targets[i][j]).astype(np.float32)])\n",
      "    test_ts.append(data)"
     ],
     "language": "python",
     "metadata": {},
     "outputs": [],
     "prompt_number": 5
    },
    {
     "cell_type": "code",
     "collapsed": false,
     "input": [
      "weights_attend = tf.Variable(tf.truncated_normal([2 * num_hidden, num_hidden],\n",
      "                                                   stddev=np.sqrt(2.0 / (2*num_hidden))))\n",
      "\n",
      "biases_attend = tf.Variable(tf.zeros([num_hidden]))\n",
      "\n",
      "# weightsClasses = tf.Variable(tf.truncated_normal([num_hidden, num_classes],\n",
      "#                                                      stddev=np.sqrt(2.0 / num_hidden)))\n",
      "# biasesClasses = tf.Variable(tf.zeros([num_classes]))\n",
      "\n",
      "\n",
      "inputs = tf.placeholder(tf.float32, shape = (max_encoder_input_size, batch_size, input_size))\n",
      "inputrs = tf.reshape(inputs, [-1, input_size])\n",
      "\n",
      "inputList = tf.split(inputrs, max_encoder_input_size, 0)\n",
      "\n",
      "tar = tf.placeholder(tf.float32, shape = (max_decoder_input_size, batch_size, num_classes))\n",
      "\n",
      "tars = []\n",
      "for j in range(max_decoder_input_size):\n",
      "    tars.append(tar[j])\n",
      "\n",
      "fw = tf.contrib.rnn.LSTMCell(num_hidden, state_is_tuple = True)\n",
      "bw = tf.contrib.rnn.LSTMCell(num_hidden, state_is_tuple = True)\n",
      "\n",
      "output, _, _ = tf.contrib.rnn.static_bidirectional_rnn(fw, bw, inputList, dtype = tf.float32)\n",
      "\n",
      "# outH1 = [tf.reduce_sum(tf.multiply(t, weightsOutH1), reduction_indices = 1) + biasesOutH1 for t in outputrs]\n",
      "\n",
      "decoder_attention_states = [tf.matmul(t, weights_attend) + biases_attend for t in output]\n",
      "decoder_attention_states = tf.reshape(decoder_attention_states, shape = (batch_size, max_encoder_input_size, num_hidden))\n",
      "\n",
      "decoder_cell = tf.contrib.rnn.LSTMCell(num_hidden)\n",
      "decoder_cell_state = decoder_cell.zero_state(batch_size, dtype = tf.float32)\n",
      "\n",
      "output_decoder, decoder_cell_state = tf.contrib.legacy_seq2seq.attention_decoder(tars, decoder_cell_state, \n",
      "                                        decoder_attention_states, decoder_cell)\n",
      "\n",
      "weights_decoder = tf.Variable(tf.truncated_normal([num_hidden, num_classes],\n",
      "                                                   stddev=np.sqrt(2.0 / (2*num_hidden))))\n",
      "biases_decoder = tf.Variable(tf.zeros([num_classes]))\n",
      "\n",
      "output_decoder = tf.reshape(output_decoder, shape = (max_decoder_input_size, num_hidden))\n",
      "output_logits = tf.matmul(output_decoder, weights_decoder) + biases_decoder\n",
      "\n",
      "loss = tf.reduce_mean(tf.nn.softmax_cross_entropy_with_logits(logits = output_logits, labels = tar))\n",
      "\n",
      "optimizer = tf.train.GradientDescentOptimizer(0.001).minimize(loss)"
     ],
     "language": "python",
     "metadata": {},
     "outputs": [],
     "prompt_number": 6
    },
    {
     "cell_type": "code",
     "collapsed": false,
     "input": [
      "num_steps = 100\n",
      "\n",
      "with tf.Session() as session:\n",
      "    \n",
      "    print(\"Initializing\")\n",
      "    tf.global_variables_initializer().run()\n",
      "    \n",
      "    saver = tf.train.Saver()\n",
      "    saver.restore(session, \"./Models/bidirectionaldecoder.ckpt\")\n",
      "    \n",
      "    for step in range(num_steps):\n",
      "        \n",
      "        l2 = 0\n",
      "        for i in range(len(test_mfcc)):\n",
      "            \n",
      "            feedDict = {inputs : test_mfcc[i].reshape([max_encoder_input_size, batch_size, input_size]),\n",
      "                        tar : test_ts[i].reshape([max_decoder_input_size, batch_size, num_classes])}\n",
      "            \n",
      "            \n",
      "            l = session.run(loss, feed_dict=feedDict)\n",
      "            l2 += l\n",
      "            \n",
      "            if i % 500 == 0:\n",
      "                print(\"I - test\", i, l2)\n",
      "                    \n",
      "        print(\"Test Loss\", l2)\n",
      "        \n",
      "        l2 = 0\n",
      "        for i in range(len(train_mfcc)):\n",
      "            \n",
      "            feedDict = {inputs : train_mfcc[i].reshape([max_encoder_input_size, batch_size, input_size]),\n",
      "                        tar : train_ts[i].reshape([max_decoder_input_size, batch_size, num_classes])}\n",
      "            \n",
      "            \n",
      "            _, l = session.run([optimizer, loss], feed_dict=feedDict)\n",
      "            \n",
      "            l2 += l\n",
      "            \n",
      "            if i % 500 == 0:\n",
      "                print(\"I\", i, l2)\n",
      "                    \n",
      "        print(\"Step\", step, \"Loss\", l2)\n",
      "        saver.save(session, \"./Models/bidirectionaldecoder.ckpt\")"
     ],
     "language": "python",
     "metadata": {},
     "outputs": [
      {
       "output_type": "stream",
       "stream": "stdout",
       "text": [
        "Initializing\n",
        "('I - test', 0, 1.3758503198623657)"
       ]
      },
      {
       "output_type": "stream",
       "stream": "stdout",
       "text": [
        "\n",
        "('I - test', 500, 958.35060429573059)"
       ]
      },
      {
       "output_type": "stream",
       "stream": "stdout",
       "text": [
        "\n",
        "('I - test', 1000, 1915.8411604166031)"
       ]
      },
      {
       "output_type": "stream",
       "stream": "stdout",
       "text": [
        "\n",
        "('I - test', 1500, 2863.2568309307098)"
       ]
      },
      {
       "output_type": "stream",
       "stream": "stdout",
       "text": [
        "\n",
        "('Test Loss', 3202.5689246058464)"
       ]
      },
      {
       "output_type": "stream",
       "stream": "stdout",
       "text": [
        "\n",
        "('I', 0, 1.853294849395752)"
       ]
      },
      {
       "output_type": "stream",
       "stream": "stdout",
       "text": [
        "\n",
        "('I', 500, 946.88516145944595)"
       ]
      },
      {
       "output_type": "stream",
       "stream": "stdout",
       "text": [
        "\n",
        "('I', 1000, 1888.7021325826645)"
       ]
      },
      {
       "output_type": "stream",
       "stream": "stdout",
       "text": [
        "\n",
        "('I', 1500, 2815.0864825844765)"
       ]
      },
      {
       "output_type": "stream",
       "stream": "stdout",
       "text": [
        "\n",
        "('I', 2000, 3724.1880509853363)"
       ]
      },
      {
       "output_type": "stream",
       "stream": "stdout",
       "text": [
        "\n",
        "('I', 2500, 4634.3167935013771)"
       ]
      },
      {
       "output_type": "stream",
       "stream": "stdout",
       "text": [
        "\n",
        "('I', 3000, 5532.7048703432083)"
       ]
      },
      {
       "output_type": "stream",
       "stream": "stdout",
       "text": [
        "\n",
        "('I', 3500, 6424.991856276989)"
       ]
      },
      {
       "output_type": "stream",
       "stream": "stdout",
       "text": [
        "\n",
        "('I', 4000, 7317.8191594481468)"
       ]
      },
      {
       "output_type": "stream",
       "stream": "stdout",
       "text": [
        "\n",
        "('I', 4500, 8207.825075507164)"
       ]
      },
      {
       "output_type": "stream",
       "stream": "stdout",
       "text": [
        "\n",
        "('Step', 0, 'Loss', 8414.1764022111893)"
       ]
      },
      {
       "output_type": "stream",
       "stream": "stdout",
       "text": [
        "\n",
        "('I - test', 0, 1.2782511711120605)"
       ]
      },
      {
       "output_type": "stream",
       "stream": "stdout",
       "text": [
        "\n",
        "('I - test', 500, 882.71123576164246)"
       ]
      },
      {
       "output_type": "stream",
       "stream": "stdout",
       "text": [
        "\n",
        "('I - test', 1000, 1763.4986713528633)"
       ]
      },
      {
       "output_type": "stream",
       "stream": "stdout",
       "text": [
        "\n",
        "('I - test', 1500, 2637.729593038559)"
       ]
      },
      {
       "output_type": "stream",
       "stream": "stdout",
       "text": [
        "\n",
        "('Test Loss', 2951.4470325708389)"
       ]
      },
      {
       "output_type": "stream",
       "stream": "stdout",
       "text": [
        "\n",
        "('I', 0, 1.684689998626709)"
       ]
      },
      {
       "output_type": "stream",
       "stream": "stdout",
       "text": [
        "\n",
        "('I', 500, 877.63933223485947)"
       ]
      },
      {
       "output_type": "stream",
       "stream": "stdout",
       "text": [
        "\n",
        "('I', 1000, 1761.7131152153015)"
       ]
      },
      {
       "output_type": "stream",
       "stream": "stdout",
       "text": [
        "\n",
        "('I', 1500, 2639.8773744106293)"
       ]
      },
      {
       "output_type": "stream",
       "stream": "stdout",
       "text": [
        "\n",
        "('I', 2000, 3508.7423758506775)"
       ]
      },
      {
       "output_type": "stream",
       "stream": "stdout",
       "text": [
        "\n",
        "('I', 2500, 4384.1789368391037)"
       ]
      },
      {
       "output_type": "stream",
       "stream": "stdout",
       "text": [
        "\n",
        "('I', 3000, 5252.2553743124008)"
       ]
      },
      {
       "output_type": "stream",
       "stream": "stdout",
       "text": [
        "\n",
        "('I', 3500, 6118.5408485531807)"
       ]
      },
      {
       "output_type": "stream",
       "stream": "stdout",
       "text": [
        "\n",
        "('I', 4000, 6987.7072704434395)"
       ]
      },
      {
       "output_type": "stream",
       "stream": "stdout",
       "text": [
        "\n",
        "('I', 4500, 7856.7217373251915)"
       ]
      },
      {
       "output_type": "stream",
       "stream": "stdout",
       "text": [
        "\n",
        "('Step', 1, 'Loss', 8058.6301496624947)"
       ]
      },
      {
       "output_type": "stream",
       "stream": "stdout",
       "text": [
        "\n",
        "('I - test', 0, 1.2521014213562012)"
       ]
      },
      {
       "output_type": "stream",
       "stream": "stdout",
       "text": [
        "\n",
        "('I - test', 500, 863.03969305753708)"
       ]
      },
      {
       "output_type": "stream",
       "stream": "stdout",
       "text": [
        "\n",
        "('I - test', 1000, 1724.3390435576439)"
       ]
      },
      {
       "output_type": "stream",
       "stream": "stdout",
       "text": [
        "\n",
        "('I - test', 1500, 2578.785712659359)"
       ]
      },
      {
       "output_type": "stream",
       "stream": "stdout",
       "text": [
        "\n",
        "('Test Loss', 2885.209534406662)"
       ]
      },
      {
       "output_type": "stream",
       "stream": "stdout",
       "text": [
        "\n",
        "('I', 0, 1.6437278985977173)"
       ]
      },
      {
       "output_type": "stream",
       "stream": "stdout",
       "text": [
        "\n",
        "('I', 500, 858.96173590421677)"
       ]
      },
      {
       "output_type": "stream",
       "stream": "stdout",
       "text": [
        "\n",
        "('I', 1000, 1726.0919098258018)"
       ]
      },
      {
       "output_type": "stream",
       "stream": "stdout",
       "text": [
        "\n",
        "('I', 1500, 2588.984649002552)"
       ]
      },
      {
       "output_type": "stream",
       "stream": "stdout",
       "text": [
        "\n",
        "('I', 2000, 3443.428034901619)"
       ]
      },
      {
       "output_type": "stream",
       "stream": "stdout",
       "text": [
        "\n",
        "('I', 2500, 4305.7299202084541)"
       ]
      },
      {
       "output_type": "stream",
       "stream": "stdout",
       "text": [
        "\n",
        "('I', 3000, 5161.4842070937157)"
       ]
      },
      {
       "output_type": "stream",
       "stream": "stdout",
       "text": [
        "\n",
        "('I', 3500, 6016.1868106722832)"
       ]
      },
      {
       "output_type": "stream",
       "stream": "stdout",
       "text": [
        "\n",
        "('I', 4000, 6874.1304686069489)"
       ]
      },
      {
       "output_type": "stream",
       "stream": "stdout",
       "text": [
        "\n",
        "('I', 4500, 7732.6489875912666)"
       ]
      },
      {
       "output_type": "stream",
       "stream": "stdout",
       "text": [
        "\n",
        "('Step', 2, 'Loss', 7932.2283262610435)"
       ]
      },
      {
       "output_type": "stream",
       "stream": "stdout",
       "text": [
        "\n",
        "('I - test', 0, 1.2398526668548584)"
       ]
      },
      {
       "output_type": "stream",
       "stream": "stdout",
       "text": [
        "\n",
        "('I - test', 500, 852.837093770504)"
       ]
      },
      {
       "output_type": "stream",
       "stream": "stdout",
       "text": [
        "\n",
        "('I - test', 1000, 1704.0978719592094)"
       ]
      },
      {
       "output_type": "stream",
       "stream": "stdout",
       "text": [
        "\n",
        "('I - test', 1500, 2548.5121534466743)"
       ]
      },
      {
       "output_type": "stream",
       "stream": "stdout",
       "text": [
        "\n",
        "('Test Loss', 2851.1267966032028)"
       ]
      },
      {
       "output_type": "stream",
       "stream": "stdout",
       "text": [
        "\n",
        "('I', 0, 1.621431827545166)"
       ]
      },
      {
       "output_type": "stream",
       "stream": "stdout",
       "text": [
        "\n",
        "('I', 500, 848.98886770009995)"
       ]
      },
      {
       "output_type": "stream",
       "stream": "stdout",
       "text": [
        "\n",
        "('I', 1000, 1706.560272872448)"
       ]
      },
      {
       "output_type": "stream",
       "stream": "stdout",
       "text": [
        "\n",
        "('I', 1500, 2560.3292538523674)"
       ]
      },
      {
       "output_type": "stream",
       "stream": "stdout",
       "text": [
        "\n",
        "('I', 2000, 3405.8746166825294)"
       ]
      },
      {
       "output_type": "stream",
       "stream": "stdout",
       "text": [
        "\n",
        "('I', 2500, 4259.7079945206642)"
       ]
      },
      {
       "output_type": "stream",
       "stream": "stdout",
       "text": [
        "\n",
        "('I', 3000, 5107.3683265447617)"
       ]
      },
      {
       "output_type": "stream",
       "stream": "stdout",
       "text": [
        "\n",
        "('I', 3500, 5954.1166127324104)"
       ]
      },
      {
       "output_type": "stream",
       "stream": "stdout",
       "text": [
        "\n",
        "('I', 4000, 6804.0570353269577)"
       ]
      },
      {
       "output_type": "stream",
       "stream": "stdout",
       "text": [
        "\n",
        "('I', 4500, 7654.8521109819412)"
       ]
      },
      {
       "output_type": "stream",
       "stream": "stdout",
       "text": [
        "\n",
        "('Step', 3, 'Loss', 7852.6917658448219)"
       ]
      },
      {
       "output_type": "stream",
       "stream": "stdout",
       "text": [
        "\n",
        "('I - test', 0, 1.2310067415237427)"
       ]
      },
      {
       "output_type": "stream",
       "stream": "stdout",
       "text": [
        "\n",
        "('I - test', 500, 845.30055564641953)"
       ]
      },
      {
       "output_type": "stream",
       "stream": "stdout",
       "text": [
        "\n",
        "('I - test', 1000, 1689.156581401825)"
       ]
      },
      {
       "output_type": "stream",
       "stream": "stdout",
       "text": [
        "\n",
        "('I - test', 1500, 2526.2276921868324)"
       ]
      },
      {
       "output_type": "stream",
       "stream": "stdout",
       "text": [
        "\n",
        "('Test Loss', 2826.0656613707542)"
       ]
      },
      {
       "output_type": "stream",
       "stream": "stdout",
       "text": [
        "\n",
        "('I', 0, 1.6054439544677734)"
       ]
      },
      {
       "output_type": "stream",
       "stream": "stdout",
       "text": [
        "\n",
        "('I', 500, 841.43009805679321)"
       ]
      },
      {
       "output_type": "stream",
       "stream": "stdout",
       "text": [
        "\n",
        "('I', 1000, 1691.5221735239029)"
       ]
      },
      {
       "output_type": "stream",
       "stream": "stdout",
       "text": [
        "\n",
        "('I', 1500, 2537.9705914855003)"
       ]
      },
      {
       "output_type": "stream",
       "stream": "stdout",
       "text": [
        "\n",
        "('I', 2000, 3376.2240179181099)"
       ]
      },
      {
       "output_type": "stream",
       "stream": "stdout",
       "text": [
        "\n",
        "('I', 2500, 4222.9196981787682)"
       ]
      },
      {
       "output_type": "stream",
       "stream": "stdout",
       "text": [
        "\n",
        "('I', 3000, 5063.6594037413597)"
       ]
      },
      {
       "output_type": "stream",
       "stream": "stdout",
       "text": [
        "\n",
        "('I', 3500, 5903.4114001989365)"
       ]
      },
      {
       "output_type": "stream",
       "stream": "stdout",
       "text": [
        "\n",
        "('I', 4000, 6746.2271519899368)"
       ]
      },
      {
       "output_type": "stream",
       "stream": "stdout",
       "text": [
        "\n",
        "('I', 4500, 7589.9362506866455)"
       ]
      },
      {
       "output_type": "stream",
       "stream": "stdout",
       "text": [
        "\n",
        "('Step', 4, 'Loss', 7786.1623157262802)"
       ]
      },
      {
       "output_type": "stream",
       "stream": "stdout",
       "text": [
        "\n",
        "('I - test', 0, 1.2233830690383911)"
       ]
      },
      {
       "output_type": "stream",
       "stream": "stdout",
       "text": [
        "\n",
        "('I - test', 500, 838.37633097171783)"
       ]
      },
      {
       "output_type": "stream",
       "stream": "stdout",
       "text": [
        "\n",
        "('I - test', 1000, 1675.4359275102615)"
       ]
      },
      {
       "output_type": "stream",
       "stream": "stdout",
       "text": [
        "\n",
        "('I - test', 1500, 2505.767013669014)"
       ]
      },
      {
       "output_type": "stream",
       "stream": "stdout",
       "text": [
        "\n",
        "('Test Loss', 2803.0902813076973)"
       ]
      },
      {
       "output_type": "stream",
       "stream": "stdout",
       "text": [
        "\n",
        "('I', 0, 1.5910621881484985)"
       ]
      },
      {
       "output_type": "stream",
       "stream": "stdout",
       "text": [
        "\n",
        "('I', 500, 834.33741307258606)"
       ]
      },
      {
       "output_type": "stream",
       "stream": "stdout",
       "text": [
        "\n",
        "('I', 1000, 1677.2707197070122)"
       ]
      },
      {
       "output_type": "stream",
       "stream": "stdout",
       "text": [
        "\n",
        "('I', 1500, 2516.6010091900826)"
       ]
      },
      {
       "output_type": "stream",
       "stream": "stdout",
       "text": [
        "\n",
        "('I', 2000, 3347.6285290122032)"
       ]
      },
      {
       "output_type": "stream",
       "stream": "stdout",
       "text": [
        "\n",
        "('I', 2500, 4187.0971186161041)"
       ]
      },
      {
       "output_type": "stream",
       "stream": "stdout",
       "text": [
        "\n"
       ]
      },
      {
       "ename": "KeyboardInterrupt",
       "evalue": "",
       "output_type": "pyerr",
       "traceback": [
        "\u001b[0;31m---------------------------------------------------------------------------\u001b[0m\n\u001b[0;31mKeyboardInterrupt\u001b[0m                         Traceback (most recent call last)",
        "\u001b[0;32m<ipython-input-7-d946907c372d>\u001b[0m in \u001b[0;36m<module>\u001b[0;34m()\u001b[0m\n\u001b[1;32m     33\u001b[0m \u001b[0;34m\u001b[0m\u001b[0m\n\u001b[1;32m     34\u001b[0m \u001b[0;34m\u001b[0m\u001b[0m\n\u001b[0;32m---> 35\u001b[0;31m             \u001b[0m_\u001b[0m\u001b[0;34m,\u001b[0m \u001b[0ml\u001b[0m \u001b[0;34m=\u001b[0m \u001b[0msession\u001b[0m\u001b[0;34m.\u001b[0m\u001b[0mrun\u001b[0m\u001b[0;34m(\u001b[0m\u001b[0;34m[\u001b[0m\u001b[0moptimizer\u001b[0m\u001b[0;34m,\u001b[0m \u001b[0mloss\u001b[0m\u001b[0;34m]\u001b[0m\u001b[0;34m,\u001b[0m \u001b[0mfeed_dict\u001b[0m\u001b[0;34m=\u001b[0m\u001b[0mfeedDict\u001b[0m\u001b[0;34m)\u001b[0m\u001b[0;34m\u001b[0m\u001b[0m\n\u001b[0m\u001b[1;32m     36\u001b[0m \u001b[0;34m\u001b[0m\u001b[0m\n\u001b[1;32m     37\u001b[0m             \u001b[0ml2\u001b[0m \u001b[0;34m+=\u001b[0m \u001b[0ml\u001b[0m\u001b[0;34m\u001b[0m\u001b[0m\n",
        "\u001b[0;32m/usr/local/lib/python2.7/dist-packages/tensorflow/python/client/session.pyc\u001b[0m in \u001b[0;36mrun\u001b[0;34m(self, fetches, feed_dict, options, run_metadata)\u001b[0m\n\u001b[1;32m    765\u001b[0m     \u001b[0;32mtry\u001b[0m\u001b[0;34m:\u001b[0m\u001b[0;34m\u001b[0m\u001b[0m\n\u001b[1;32m    766\u001b[0m       result = self._run(None, fetches, feed_dict, options_ptr,\n\u001b[0;32m--> 767\u001b[0;31m                          run_metadata_ptr)\n\u001b[0m\u001b[1;32m    768\u001b[0m       \u001b[0;32mif\u001b[0m \u001b[0mrun_metadata\u001b[0m\u001b[0;34m:\u001b[0m\u001b[0;34m\u001b[0m\u001b[0m\n\u001b[1;32m    769\u001b[0m         \u001b[0mproto_data\u001b[0m \u001b[0;34m=\u001b[0m \u001b[0mtf_session\u001b[0m\u001b[0;34m.\u001b[0m\u001b[0mTF_GetBuffer\u001b[0m\u001b[0;34m(\u001b[0m\u001b[0mrun_metadata_ptr\u001b[0m\u001b[0;34m)\u001b[0m\u001b[0;34m\u001b[0m\u001b[0m\n",
        "\u001b[0;32m/usr/local/lib/python2.7/dist-packages/tensorflow/python/client/session.pyc\u001b[0m in \u001b[0;36m_run\u001b[0;34m(self, handle, fetches, feed_dict, options, run_metadata)\u001b[0m\n\u001b[1;32m    963\u001b[0m     \u001b[0;32mif\u001b[0m \u001b[0mfinal_fetches\u001b[0m \u001b[0;32mor\u001b[0m \u001b[0mfinal_targets\u001b[0m\u001b[0;34m:\u001b[0m\u001b[0;34m\u001b[0m\u001b[0m\n\u001b[1;32m    964\u001b[0m       results = self._do_run(handle, final_targets, final_fetches,\n\u001b[0;32m--> 965\u001b[0;31m                              feed_dict_string, options, run_metadata)\n\u001b[0m\u001b[1;32m    966\u001b[0m     \u001b[0;32melse\u001b[0m\u001b[0;34m:\u001b[0m\u001b[0;34m\u001b[0m\u001b[0m\n\u001b[1;32m    967\u001b[0m       \u001b[0mresults\u001b[0m \u001b[0;34m=\u001b[0m \u001b[0;34m[\u001b[0m\u001b[0;34m]\u001b[0m\u001b[0;34m\u001b[0m\u001b[0m\n",
        "\u001b[0;32m/usr/local/lib/python2.7/dist-packages/tensorflow/python/client/session.pyc\u001b[0m in \u001b[0;36m_do_run\u001b[0;34m(self, handle, target_list, fetch_list, feed_dict, options, run_metadata)\u001b[0m\n\u001b[1;32m   1013\u001b[0m     \u001b[0;32mif\u001b[0m \u001b[0mhandle\u001b[0m \u001b[0;32mis\u001b[0m \u001b[0mNone\u001b[0m\u001b[0;34m:\u001b[0m\u001b[0;34m\u001b[0m\u001b[0m\n\u001b[1;32m   1014\u001b[0m       return self._do_call(_run_fn, self._session, feed_dict, fetch_list,\n\u001b[0;32m-> 1015\u001b[0;31m                            target_list, options, run_metadata)\n\u001b[0m\u001b[1;32m   1016\u001b[0m     \u001b[0;32melse\u001b[0m\u001b[0;34m:\u001b[0m\u001b[0;34m\u001b[0m\u001b[0m\n\u001b[1;32m   1017\u001b[0m       return self._do_call(_prun_fn, self._session, handle, feed_dict,\n",
        "\u001b[0;32m/usr/local/lib/python2.7/dist-packages/tensorflow/python/client/session.pyc\u001b[0m in \u001b[0;36m_do_call\u001b[0;34m(self, fn, *args)\u001b[0m\n\u001b[1;32m   1020\u001b[0m   \u001b[0;32mdef\u001b[0m \u001b[0m_do_call\u001b[0m\u001b[0;34m(\u001b[0m\u001b[0mself\u001b[0m\u001b[0;34m,\u001b[0m \u001b[0mfn\u001b[0m\u001b[0;34m,\u001b[0m \u001b[0;34m*\u001b[0m\u001b[0margs\u001b[0m\u001b[0;34m)\u001b[0m\u001b[0;34m:\u001b[0m\u001b[0;34m\u001b[0m\u001b[0m\n\u001b[1;32m   1021\u001b[0m     \u001b[0;32mtry\u001b[0m\u001b[0;34m:\u001b[0m\u001b[0;34m\u001b[0m\u001b[0m\n\u001b[0;32m-> 1022\u001b[0;31m       \u001b[0;32mreturn\u001b[0m \u001b[0mfn\u001b[0m\u001b[0;34m(\u001b[0m\u001b[0;34m*\u001b[0m\u001b[0margs\u001b[0m\u001b[0;34m)\u001b[0m\u001b[0;34m\u001b[0m\u001b[0m\n\u001b[0m\u001b[1;32m   1023\u001b[0m     \u001b[0;32mexcept\u001b[0m \u001b[0merrors\u001b[0m\u001b[0;34m.\u001b[0m\u001b[0mOpError\u001b[0m \u001b[0;32mas\u001b[0m \u001b[0me\u001b[0m\u001b[0;34m:\u001b[0m\u001b[0;34m\u001b[0m\u001b[0m\n\u001b[1;32m   1024\u001b[0m       \u001b[0mmessage\u001b[0m \u001b[0;34m=\u001b[0m \u001b[0mcompat\u001b[0m\u001b[0;34m.\u001b[0m\u001b[0mas_text\u001b[0m\u001b[0;34m(\u001b[0m\u001b[0me\u001b[0m\u001b[0;34m.\u001b[0m\u001b[0mmessage\u001b[0m\u001b[0;34m)\u001b[0m\u001b[0;34m\u001b[0m\u001b[0m\n",
        "\u001b[0;32m/usr/local/lib/python2.7/dist-packages/tensorflow/python/client/session.pyc\u001b[0m in \u001b[0;36m_run_fn\u001b[0;34m(session, feed_dict, fetch_list, target_list, options, run_metadata)\u001b[0m\n\u001b[1;32m   1002\u001b[0m         return tf_session.TF_Run(session, options,\n\u001b[1;32m   1003\u001b[0m                                  \u001b[0mfeed_dict\u001b[0m\u001b[0;34m,\u001b[0m \u001b[0mfetch_list\u001b[0m\u001b[0;34m,\u001b[0m \u001b[0mtarget_list\u001b[0m\u001b[0;34m,\u001b[0m\u001b[0;34m\u001b[0m\u001b[0m\n\u001b[0;32m-> 1004\u001b[0;31m                                  status, run_metadata)\n\u001b[0m\u001b[1;32m   1005\u001b[0m \u001b[0;34m\u001b[0m\u001b[0m\n\u001b[1;32m   1006\u001b[0m     \u001b[0;32mdef\u001b[0m \u001b[0m_prun_fn\u001b[0m\u001b[0;34m(\u001b[0m\u001b[0msession\u001b[0m\u001b[0;34m,\u001b[0m \u001b[0mhandle\u001b[0m\u001b[0;34m,\u001b[0m \u001b[0mfeed_dict\u001b[0m\u001b[0;34m,\u001b[0m \u001b[0mfetch_list\u001b[0m\u001b[0;34m)\u001b[0m\u001b[0;34m:\u001b[0m\u001b[0;34m\u001b[0m\u001b[0m\n",
        "\u001b[0;31mKeyboardInterrupt\u001b[0m: "
       ]
      }
     ],
     "prompt_number": 7
    },
    {
     "cell_type": "code",
     "collapsed": false,
     "input": [],
     "language": "python",
     "metadata": {},
     "outputs": []
    }
   ],
   "metadata": {}
  }
 ]
}